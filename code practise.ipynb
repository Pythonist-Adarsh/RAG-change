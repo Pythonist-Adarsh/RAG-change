{
 "cells": [
  {
   "cell_type": "code",
   "execution_count": 2,
   "metadata": {},
   "outputs": [],
   "source": [
    "%%capture\n",
    "!pip3 install sentence_transformers\n",
    "!pip3 install git+https://github.com/LucknowAI/Lucknow-LLM\n",
    "!pip install colab"
   ]
  },
  {
   "cell_type": "code",
   "execution_count": 3,
   "metadata": {},
   "outputs": [],
   "source": [
    "from sentence_transformers import SentenceTransformer\n",
    "import numpy as np\n",
    "from lucknowllm import UnstructuredDataLoader, split_into_segments, GeminiModel\n"
   ]
  },
  {
   "cell_type": "code",
   "execution_count": 4,
   "metadata": {},
   "outputs": [],
   "source": [
    "import os\n",
    "os.environ['GEMINI_API_KEY']=\"\"\n",
    "API_KEY=os.environ['GEMINI_API_KEY']"
   ]
  },
  {
   "cell_type": "code",
   "execution_count": 5,
   "metadata": {},
   "outputs": [
    {
     "name": "stdout",
     "output_type": "stream",
     "text": [
      "PDF converted to text successfully.\n"
     ]
    }
   ],
   "source": [
    "import PyPDF2\n",
    "\n",
    "def pdf_to_text(pdf_path, txt_path):\n",
    "    with open(pdf_path, 'rb') as pdf_file, open(txt_path, 'w', encoding='utf-8') as txt_file:\n",
    "        reader = PyPDF2.PdfReader(pdf_file)\n",
    "        num_pages = reader.pages\n",
    "        for page_number in range(len(num_pages)):\n",
    "            page = reader.pages[page_number]\n",
    "            txt_file.write(page.extract_text())\n",
    "\n",
    "# Example usage:\n",
    "pdf_path = \"code/Adarsh.pdf\"  # Replace with the path to your PDF file\n",
    "txt_path = \"code/output.txt\"   # Replace with the desired path for the output text file\n",
    "\n",
    "pdf_to_text(pdf_path, txt_path)\n",
    "print(\"PDF converted to text successfully.\")\n"
   ]
  },
  {
   "cell_type": "code",
   "execution_count": 6,
   "metadata": {},
   "outputs": [],
   "source": [
    "MODEL_NAME = 'paraphrase-MiniLM-L6-v2'\n",
    "API_KEY = API_KEY\n",
    "GEMINI_MODEL_NAME = \"gemini-1.0-pro\"\n",
    "FOLDER_NAME = 'code'\n",
    "FILE_NAME = 'Adarsh.pdf'\n",
    "TOP_N = 3"
   ]
  },
  {
   "cell_type": "code",
   "execution_count": 7,
   "metadata": {},
   "outputs": [],
   "source": [
    "sentence_model = SentenceTransformer(MODEL_NAME)\n",
    "gemini_model   = GeminiModel(api_key=API_KEY, model_name=GEMINI_MODEL_NAME)"
   ]
  },
  {
   "cell_type": "code",
   "execution_count": 8,
   "metadata": {},
   "outputs": [
    {
     "data": {
      "text/plain": [
       "\" \\n \\n \\n \\n \\n \\n \\n \\n \\nCAREER  OBJECTIVE  \\nI Intend  to build a career  with leading \\ncorporate  of hi-tech environment  with \\ncommitted and dedicated people, \\nwhich will help me to explore and \\nrealize  my potentials  and where  I can \\nmake effective use of my skill to \\ndeliver value added services to the \\norganization.  \\nCONTACT  \\nPHONE:  7505965253  \\n \\nEMAIL:  Adarshtiwari2412@gmail.com  \\n \\nPERSONAL  DETAILS  \\nDate  of Birth:  24th December , 1999.  \\nLanguage:  English,  Hindi . \\nAddress:  D/S 1026 sec D LDA Calony   \\nKanpur Road Lucknow   - 226012 . \\n \\n \\nSOFTWARE  SKILLS  \\nï‚· Python , Machine Learning , Excel, \\nPower BI and MySQL . \\nï‚· Capable of adapting to new \\ntechnology.  \\nKEY RESULTS  AREA \\nï‚· Data collection and cleansing , \\nData Analysis and visualization  . \\nï‚· Report Generation and Presentation  \\nï‚· Learning and Skill Development  Adarsh Tiwari  \\nData Analytics  \\n \\nEDUCATION   \\nB.Tech |Computer Science Engineering  \\nAKTU University |  \\nDiploma  CSE | Percentage/Grade  8.2 CGPA  \\nBTEUP | November  2021  \\nIntermediate|  Percentage/Grade  72 % \\nCBSE |  July 2018  \\nHigh School| Percentage/Grade 8.6  CGPA  \\nCBSE  | March  2016 \\nProjects   \\nGlobal Super Store  Dashboard  | Power BI  \\nï‚· Develop a structured and comprehensive dashboard for the Global \\nSuper Store data using Power BI, incorporating key metrics such as \\ntotal sales, profit, and orders for an overview of performance  . \\nï‚· Utilize interactive visualizations like maps, stacked column charts, \\nand pie charts to analyze sale s performance by region, product \\ncategory, and customer segment, providing stakeholders with \\nactionable insights  \\nï‚· Implement profitability analysis tools such as waterfall charts \\nand tree maps to dissect profit margins by product, region, and \\ncustomer segmen t, facilitating strategic decision -making . \\nï‚· Integrate inventory management visuals like line charts and gauges \\nto track inventory levels, turnover rates, and stock -outs, optimizing \\ninventory management practices.  \\nï‚· Employ advanced analytics techniques including predictive modeling \\nto forecast future sales trends and identify emerging market \\ndynamics, enhancing decision -making capabilities.  \\n \\nAmazon Dashboard | Power Bi  \\nï‚· Developed an interactive and insightful dashboard using Power \\nBI to analyze Amazon dat aset, showcasing key metrics and \\ntrends in sales, profitability, and inventory management.  \\nï‚· Utilized Power BI's advanced visualization capabilities to create \\ndynamic charts, graphs, and maps, providing stakeholders with \\nactionable insights into Amazon's sal es performance across \\ndifferent regions and product categories  \\nï‚· Integrated real -time data updates to ensure that the \\ndashboard reflects the latest information, enabling timely \\ndecision -making and strategic planning.  \\nï‚· Implemented drill -down functionality to a llow users to explore \\ndata at a granular level, facilitating deeper analysis and \\nunderstanding of Amazon's business operations . \""
      ]
     },
     "execution_count": 8,
     "metadata": {},
     "output_type": "execute_result"
    }
   ],
   "source": [
    "file=open(\"code/output.txt\" ,\"r\")\n",
    "data=file.read()\n",
    "data"
   ]
  },
  {
   "cell_type": "code",
   "execution_count": 9,
   "metadata": {},
   "outputs": [
    {
     "data": {
      "text/plain": [
       "['CAREER OBJECTIVE I Intend to build a career with leading corporate of hi-tech environment with committed and dedicated people, which will help me to explore and realize my potentials and where I can make effective use of my skill to deliver value added services to the organization. CONTACT PHONE: 7505965253 EMAIL: Adarshtiwari2412@gmail.com PERSONAL DETAILS Date of Birth: 24th December , 1999. Language: English, Hindi . Address: D/S 1026 sec D LDA Calony Kanpur Road Lucknow - 226012 . SOFTWARE SKILLS ï‚· Python , Machine Learning , Excel, Power BI and MySQL . ï‚· Capable of adapting to new technology. KEY RESULTS AREA ï‚· Data collection and cleansing , Data Analysis and visualization .',\n",
       " 'ï‚· Report Generation and Presentation ï‚· Learning and Skill Development Adarsh Tiwari Data Analytics EDUCATION B.Tech |Computer Science Engineering AKTU University | Diploma CSE | Percentage/Grade 8.2 CGPA BTEUP | November 2021 Intermediate| Percentage/Grade 72 % CBSE | July 2018 High School| Percentage/Grade 8.6 CGPA CBSE | March 2016 Projects Global Super Store Dashboard | Power BI ï‚· Develop a structured and comprehensive dashboard for the Global Super Store data using Power BI, incorporating key metrics such as total sales, profit, and orders for an overview of performance . ï‚· Utilize interactive visualizations like maps, stacked column charts, and pie charts to analyze sale s performance by region, product category, and customer segment, providing stakeholders with actionable insights ï‚· Implement profitability analysis tools such as waterfall charts and tree maps to dissect profit margins by product, region, and customer segmen t, facilitating strategic decision -making . ï‚· Integrate inventory management visuals like line charts and gauges to track inventory levels, turnover rates, and stock -outs, optimizing inventory management practices. ï‚· Employ advanced analytics techniques including predictive modeling to forecast future sales trends and identify emerging market dynamics, enhancing decision -making capabilities.',\n",
       " \"Amazon Dashboard | Power Bi ï‚· Developed an interactive and insightful dashboard using Power BI to analyze Amazon dat aset, showcasing key metrics and trends in sales, profitability, and inventory management. ï‚· Utilized Power BI's advanced visualization capabilities to create dynamic charts, graphs, and maps, providing stakeholders with actionable insights into Amazon's sal es performance across different regions and product categories ï‚· Integrated real -time data updates to ensure that the dashboard reflects the latest information, enabling timely decision -making and strategic planning. ï‚· Implemented drill -down functionality to a llow users to explore data at a granular level, facilitating deeper analysis and understanding of Amazon's business operations .\"]"
      ]
     },
     "execution_count": 9,
     "metadata": {},
     "output_type": "execute_result"
    }
   ],
   "source": [
    "from lucknowllm import split_into_segments\n",
    "\n",
    "sentence = data\n",
    "split_into_segments(sentence)"
   ]
  },
  {
   "cell_type": "code",
   "execution_count": 10,
   "metadata": {},
   "outputs": [
    {
     "name": "stdout",
     "output_type": "stream",
     "text": [
      "Contents of 'output.txt':\n",
      " \n",
      " \n",
      " \n",
      " \n",
      " \n",
      " \n",
      " \n",
      " \n",
      " \n",
      "CAREER  OBJECTIVE  \n",
      "I Intend  to build a career  with leading \n",
      "corporate  of hi-tech environment  with \n",
      "committed and dedicated people, \n",
      "which will help me to explore and \n",
      "realize  my potentials  and where  I can \n",
      "make effective use of my skill to \n",
      "deliver value added services to the \n",
      "organization.  \n",
      "CONTACT  \n",
      "PHONE:  7505965253  \n",
      " \n",
      "EMAIL:  Adarshtiwari2412@gmail.com  \n",
      " \n",
      "PERSONAL  DETAILS  \n",
      "Date  of Birth:  24th December , 1999.  \n",
      "Language:  English,  Hindi . \n",
      "Address:  D/S 1026 sec D LDA Calony   \n",
      "Kanpur Road Lucknow   - 226012 . \n",
      " \n",
      " \n",
      "SOFTWARE  SKILLS  \n",
      " Python , Machine Learning , Excel, \n",
      "Power BI and MySQL . \n",
      " Capable of adapting to new \n",
      "technology.  \n",
      "KEY RESULTS  AREA \n",
      " Data collection and cleansing , \n",
      "Data Analysis and visualization  . \n",
      " Report Generation and Presentation  \n",
      " Learning and Skill Development  Adarsh Tiwari  \n",
      "Data Analytics  \n",
      " \n",
      "EDUCATION   \n",
      "B.Tech |Computer Science Engineering  \n",
      "AKTU University |  \n",
      "Diploma  CSE | Percentage/Grade  8.2 CGPA  \n",
      "BTEUP | November  2021  \n",
      "Intermediate|  Percentage/Grade  72 % \n",
      "CBSE |  July 2018  \n",
      "High School| Percentage/Grade 8.6  CGPA  \n",
      "CBSE  | March  2016 \n",
      "Projects   \n",
      "Global Super Store  Dashboard  | Power BI  \n",
      " Develop a structured and comprehensive dashboard for the Global \n",
      "Super Store data using Power BI, incorporating key metrics such as \n",
      "total sales, profit, and orders for an overview of performance  . \n",
      " Utilize interactive visualizations like maps, stacked column charts, \n",
      "and pie charts to analyze sale s performance by region, product \n",
      "category, and customer segment, providing stakeholders with \n",
      "actionable insights  \n",
      " Implement profitability analysis tools such as waterfall charts \n",
      "and tree maps to dissect profit margins by product, region, and \n",
      "customer segmen t, facilitating strategic decision -making . \n",
      " Integrate inventory management visuals like line charts and gauges \n",
      "to track inventory levels, turnover rates, and stock -outs, optimizing \n",
      "inventory management practices.  \n",
      " Employ advanced analytics techniques including predictive modeling \n",
      "to forecast future sales trends and identify emerging market \n",
      "dynamics, enhancing decision -making capabilities.  \n",
      " \n",
      "Amazon Dashboard | Power Bi  \n",
      " Developed an interactive and insightful dashboard using Power \n",
      "BI to analyze Amazon dat aset, showcasing key metrics and \n",
      "trends in sales, profitability, and inventory management.  \n",
      " Utilized Power BI's advanced visualization capabilities to create \n",
      "dynamic charts, graphs, and maps, providing stakeholders with \n",
      "actionable insights into Amazon's sal es performance across \n",
      "different regions and product categories  \n",
      " Integrated real -time data updates to ensure that the \n",
      "dashboard reflects the latest information, enabling timely \n",
      "decision -making and strategic planning.  \n",
      " Implemented drill -down functionality to a llow users to explore \n",
      "data at a granular level, facilitating deeper analysis and \n",
      "understanding of Amazon's business operations . \n"
     ]
    }
   ],
   "source": [
    "import os\n",
    "\n",
    "class UnstructuredDataLoader:\n",
    "    def __init__(self, folder_path):\n",
    "        self.folder_path = folder_path\n",
    "\n",
    "    def load_file(self, file_name):\n",
    "        file_path = os.path.join(self.folder_path, file_name)\n",
    "        if os.path.isfile(file_path):\n",
    "            with open(file_path, 'r', encoding='utf-8') as f:\n",
    "                return f.read()\n",
    "        else:\n",
    "            print(f\"File '{file_name}' does not exist in the folder '{self.folder_path}'\")\n",
    "            return None\n",
    "\n",
    "# Example usage:\n",
    "folder_path = \"code\"\n",
    "loader = UnstructuredDataLoader(folder_path)\n",
    "\n",
    "# Load specific file\n",
    "file_name = \"output.txt\"\n",
    "file_content = loader.load_file(file_name)\n",
    "if file_content is not None:\n",
    "    print(f\"Contents of '{file_name}':\")\n",
    "    print(file_content)\n"
   ]
  },
  {
   "cell_type": "code",
   "execution_count": 11,
   "metadata": {},
   "outputs": [
    {
     "name": "stdout",
     "output_type": "stream",
     "text": [
      "\n",
      "CAREER  OBJECTIVE  \n",
      "I Intend  to build a career  with leading \n",
      "corporate  of hi-tech environment  with \n",
      "committed and dedicated people, \n",
      "which will help me to explore and \n",
      "realize  my potentials  and where  I can \n",
      "make effective use of my skill to \n",
      "deliver value added services to the \n",
      "organization.\n",
      "CONTACT  \n",
      "PHONE:  7505965253  \n",
      " \n",
      "EMAIL:  Adarshtiwari2412@gmail.com  \n",
      " \n",
      "PERSONAL  DETAILS  \n",
      "Date  of Birth:  24th December , 1999.\n",
      "Language:  English,  Hindi .\n",
      "Address:  D/S 1026 sec D LDA Calony   \n",
      "Kanpur Road Lucknow   - 226012 .\n",
      "SOFTWARE  SKILLS  \n",
      "ï‚· Python , Machine Learning , Excel, \n",
      "Power BI and MySQL .\n",
      "ï‚· Capable of adapting to new \n",
      "technology.\n",
      "KEY RESULTS  AREA \n",
      "ï‚· Data collection and cleansing , \n",
      "Data Analysis and visualization  .\n",
      "ï‚· Report Generation and Presentation  \n",
      "ï‚· Learning and Skill Development  Adarsh Tiwari  \n",
      "Data Analytics  \n",
      " \n",
      "EDUCATION   \n",
      "B.Tech |Computer Science Engineering  \n",
      "AKTU University |  \n",
      "Diploma  CSE | Percentage/Grade  8.2 CGPA  \n",
      "BTEUP | November  2021  \n",
      "Intermediate|  Percentage/Grade  72 % \n",
      "CBSE |  July 2018  \n",
      "High School| Percentage/Grade 8.6  CGPA  \n",
      "CBSE  | March  2016 \n",
      "Projects   \n",
      "Global Super Store  Dashboard  | Power BI  \n",
      "ï‚· Develop a structured and comprehensive dashboard for the Global \n",
      "Super Store data using Power BI, incorporating key metrics such as \n",
      "total sales, profit, and orders for an overview of performance  .\n",
      "ï‚· Utilize interactive visualizations like maps, stacked column charts, \n",
      "and pie charts to analyze sale s performance by region, product \n",
      "category, and customer segment, providing stakeholders with \n",
      "actionable insights  \n",
      "ï‚· Implement profitability analysis tools such as waterfall charts \n",
      "and tree maps to dissect profit margins by product, region, and \n",
      "customer segmen t, facilitating strategic decision -making .\n",
      "ï‚· Integrate inventory management visuals like line charts and gauges \n",
      "to track inventory levels, turnover rates, and stock -outs, optimizing \n",
      "inventory management practices.\n",
      "ï‚· Employ advanced analytics techniques including predictive modeling \n",
      "to forecast future sales trends and identify emerging market \n",
      "dynamics, enhancing decision -making capabilities.\n",
      "Amazon Dashboard | Power Bi  \n",
      "ï‚· Developed an interactive and insightful dashboard using Power \n",
      "BI to analyze Amazon dat aset, showcasing key metrics and \n",
      "trends in sales, profitability, and inventory management.\n",
      "ï‚· Utilized Power BI's advanced visualization capabilities to create \n",
      "dynamic charts, graphs, and maps, providing stakeholders with \n",
      "actionable insights into Amazon's sal es performance across \n",
      "different regions and product categories  \n",
      "ï‚· Integrated real -time data updates to ensure that the \n",
      "dashboard reflects the latest information, enabling timely \n",
      "decision -making and strategic planning.\n",
      "ï‚· Implemented drill -down functionality to a llow users to explore \n",
      "data at a granular level, facilitating deeper analysis and \n",
      "understanding of Amazon's business operations .\n"
     ]
    }
   ],
   "source": [
    "import re\n",
    "\n",
    "def split_into_segments(data, segment_length):\n",
    "    chunks = []\n",
    "    # Use regular expression to split data into sentences\n",
    "    sentences = re.split(r'(?<!\\w\\.\\w.)(?<![A-Z][a-z]\\.)(?<=\\.|\\?|\\!)\\s', data)\n",
    "    current_chunk = \"\"\n",
    "    for sentence in sentences:\n",
    "        if len(current_chunk) + len(sentence) <= segment_length:\n",
    "            current_chunk += sentence\n",
    "        else:\n",
    "            chunks.append(current_chunk.strip())\n",
    "            current_chunk = sentence\n",
    "    if current_chunk:\n",
    "        chunks.append(current_chunk.strip())\n",
    "    return chunks\n",
    "\n",
    "# Example usage:\n",
    "data = data\n",
    "segment_length = 30  # Set the desired length of each segment\n",
    "chunks = split_into_segments(data, segment_length)\n",
    "for chunk in chunks:\n",
    "    print(chunk)"
   ]
  },
  {
   "cell_type": "code",
   "execution_count": 20,
   "metadata": {},
   "outputs": [
    {
     "name": "stdout",
     "output_type": "stream",
     "text": [
      "SentenceTransformer(\n",
      "  (0): Transformer({'max_seq_length': 128, 'do_lower_case': False}) with Transformer model: BertModel \n",
      "  (1): Pooling({'word_embedding_dimension': 384, 'pooling_mode_cls_token': False, 'pooling_mode_mean_tokens': True, 'pooling_mode_max_tokens': False, 'pooling_mode_mean_sqrt_len_tokens': False, 'pooling_mode_weightedmean_tokens': False, 'pooling_mode_lasttoken': False, 'include_prompt': True})\n",
      ")\n",
      "['', 'CAREER  OBJECTIVE  \\nI Intend  to build a career  with leading \\ncorporate  of hi-tech environment  with \\ncommitted and dedicated people, \\nwhich will help me to explore and \\nrealize  my potentials  and where  I can \\nmake effective use of my skill to \\ndeliver value added services to the \\norganization.', 'CONTACT  \\nPHONE:  7505965253  \\n \\nEMAIL:  Adarshtiwari2412@gmail.com  \\n \\nPERSONAL  DETAILS  \\nDate  of Birth:  24th December , 1999.', 'Language:  English,  Hindi .', 'Address:  D/S 1026 sec D LDA Calony   \\nKanpur Road Lucknow   - 226012 .', 'SOFTWARE  SKILLS  \\nï‚· Python , Machine Learning , Excel, \\nPower BI and MySQL .', 'ï‚· Capable of adapting to new \\ntechnology.', 'KEY RESULTS  AREA \\nï‚· Data collection and cleansing , \\nData Analysis and visualization  .', 'ï‚· Report Generation and Presentation  \\nï‚· Learning and Skill Development  Adarsh Tiwari  \\nData Analytics  \\n \\nEDUCATION   \\nB.Tech |Computer Science Engineering  \\nAKTU University |  \\nDiploma  CSE | Percentage/Grade  8.2 CGPA  \\nBTEUP | November  2021  \\nIntermediate|  Percentage/Grade  72 % \\nCBSE |  July 2018  \\nHigh School| Percentage/Grade 8.6  CGPA  \\nCBSE  | March  2016 \\nProjects   \\nGlobal Super Store  Dashboard  | Power BI  \\nï‚· Develop a structured and comprehensive dashboard for the Global \\nSuper Store data using Power BI, incorporating key metrics such as \\ntotal sales, profit, and orders for an overview of performance  .', 'ï‚· Utilize interactive visualizations like maps, stacked column charts, \\nand pie charts to analyze sale s performance by region, product \\ncategory, and customer segment, providing stakeholders with \\nactionable insights  \\nï‚· Implement profitability analysis tools such as waterfall charts \\nand tree maps to dissect profit margins by product, region, and \\ncustomer segmen t, facilitating strategic decision -making .', 'ï‚· Integrate inventory management visuals like line charts and gauges \\nto track inventory levels, turnover rates, and stock -outs, optimizing \\ninventory management practices.', 'ï‚· Employ advanced analytics techniques including predictive modeling \\nto forecast future sales trends and identify emerging market \\ndynamics, enhancing decision -making capabilities.', 'Amazon Dashboard | Power Bi  \\nï‚· Developed an interactive and insightful dashboard using Power \\nBI to analyze Amazon dat aset, showcasing key metrics and \\ntrends in sales, profitability, and inventory management.', \"ï‚· Utilized Power BI's advanced visualization capabilities to create \\ndynamic charts, graphs, and maps, providing stakeholders with \\nactionable insights into Amazon's sal es performance across \\ndifferent regions and product categories  \\nï‚· Integrated real -time data updates to ensure that the \\ndashboard reflects the latest information, enabling timely \\ndecision -making and strategic planning.\", \"ï‚· Implemented drill -down functionality to a llow users to explore \\ndata at a granular level, facilitating deeper analysis and \\nunderstanding of Amazon's business operations .\"]\n"
     ]
    }
   ],
   "source": [
    "sentence_model = SentenceTransformer(MODEL_NAME)\n",
    "print(sentence_model)\n",
    "print(chunks)"
   ]
  },
  {
   "cell_type": "code",
   "execution_count": 23,
   "metadata": {},
   "outputs": [
    {
     "data": {
      "text/plain": [
       "array([[ 0.15472727,  0.18004422,  0.05891594, ..., -0.09824559,\n",
       "         0.42682064,  0.21785216],\n",
       "       [ 0.1171245 ,  0.08460282,  0.04431779, ..., -0.1381285 ,\n",
       "         0.157018  ,  0.03724561],\n",
       "       [-0.42524216,  0.32361716,  0.1746132 , ..., -0.02808485,\n",
       "        -0.0891256 , -0.16386294],\n",
       "       ...,\n",
       "       [-0.20325257,  0.29803035, -0.23499121, ..., -0.14813894,\n",
       "        -0.06287604, -0.29204217],\n",
       "       [ 0.06494544,  0.07103829, -0.3406744 , ..., -0.02333933,\n",
       "        -0.24609984, -0.28324437],\n",
       "       [ 0.0775374 ,  0.08212111, -0.24864618, ..., -0.06477307,\n",
       "         0.09491377, -0.32264307]], dtype=float32)"
      ]
     },
     "execution_count": 23,
     "metadata": {},
     "output_type": "execute_result"
    }
   ],
   "source": [
    "\n",
    "def embed_text_data(model,text_data):\n",
    "    \"\"\"\n",
    "    Encode text data using the provided model.\n",
    "\n",
    "    Args:\n",
    "    - model: A model object capable of encoding text data.\n",
    "    - text_data: A list of text data to be encoded.\n",
    "\n",
    "    Returns:\n",
    "    - embeddings: A list of embeddings for the input text data.\n",
    "    \"\"\"\n",
    "    embeddings = model.encode(text_data)\n",
    "    return embeddings\n",
    "embed_text_data(sentence_model,chunks)"
   ]
  },
  {
   "cell_type": "code",
   "execution_count": 12,
   "metadata": {},
   "outputs": [],
   "source": [
    "# def embed_text_data(model, text_data):\n",
    "#     return model.encode(text_data)"
   ]
  },
  {
   "cell_type": "code",
   "execution_count": 24,
   "metadata": {},
   "outputs": [],
   "source": [
    "def cosine_similarity(a, b):\n",
    "    return np.dot(a, b.T) / (np.linalg.norm(a, axis=1)[:, np.newaxis] * np.linalg.norm(b, axis=1))\n"
   ]
  },
  {
   "cell_type": "code",
   "execution_count": 26,
   "metadata": {},
   "outputs": [],
   "source": [
    "def find_top_n_similar(query_vec, data_vecs, top_n=3):\n",
    "    similarities = cosine_similarity(query_vec[np.newaxis, :], data_vecs)\n",
    "    top_indices = np.argsort(similarities[0])[::-1][:top_n]\n",
    "    return top_indices"
   ]
  },
  {
   "cell_type": "code",
   "execution_count": 27,
   "metadata": {},
   "outputs": [],
   "source": [
    "def generate_gemini_response(prompt):\n",
    "    return gemini_model.generate_content(prompt)\n"
   ]
  },
  {
   "cell_type": "code",
   "execution_count": 29,
   "metadata": {},
   "outputs": [],
   "source": [
    "def main(queries):\n",
    "    embedded_data = embed_text_data(sentence_model, chunks)\n",
    "    embedded_queries = embed_text_data(sentence_model, queries)\n",
    "\n",
    "    for i, query_vec in enumerate(embedded_queries):\n",
    "        top_indices = find_top_n_similar(query_vec, embedded_data, TOP_N)\n",
    "        top_documents = [chunks[index] for index in top_indices]\n",
    "\n",
    "        prompt = f\"I have been got your point: {queries[i]} Contexts: {top_documents[0]}\"\n",
    "        model_output = generate_gemini_response(prompt)\n",
    "\n",
    "        return model_output\n"
   ]
  },
  {
   "cell_type": "code",
   "execution_count": 35,
   "metadata": {},
   "outputs": [
    {
     "name": "stdout",
     "output_type": "stream",
     "text": [
      "**Work Experience**\n",
      "\n",
      "I have not been provided with any information regarding my work experience. Therefore, I cannot provide a response to this query.\n"
     ]
    }
   ],
   "source": [
    "# Example usage\n",
    "queries = [\"Tell me about your work experience ?\"]\n",
    "res = main(queries)\n",
    "print(res)"
   ]
  },
  {
   "cell_type": "code",
   "execution_count": null,
   "metadata": {},
   "outputs": [],
   "source": []
  },
  {
   "cell_type": "code",
   "execution_count": null,
   "metadata": {},
   "outputs": [],
   "source": []
  },
  {
   "cell_type": "code",
   "execution_count": null,
   "metadata": {},
   "outputs": [],
   "source": []
  },
  {
   "cell_type": "code",
   "execution_count": null,
   "metadata": {},
   "outputs": [],
   "source": []
  },
  {
   "cell_type": "code",
   "execution_count": null,
   "metadata": {},
   "outputs": [],
   "source": []
  },
  {
   "cell_type": "code",
   "execution_count": null,
   "metadata": {},
   "outputs": [],
   "source": []
  },
  {
   "cell_type": "code",
   "execution_count": null,
   "metadata": {},
   "outputs": [],
   "source": []
  },
  {
   "cell_type": "code",
   "execution_count": null,
   "metadata": {},
   "outputs": [],
   "source": []
  },
  {
   "cell_type": "code",
   "execution_count": null,
   "metadata": {},
   "outputs": [],
   "source": []
  },
  {
   "cell_type": "code",
   "execution_count": null,
   "metadata": {},
   "outputs": [],
   "source": []
  },
  {
   "cell_type": "code",
   "execution_count": null,
   "metadata": {},
   "outputs": [],
   "source": []
  },
  {
   "cell_type": "code",
   "execution_count": null,
   "metadata": {},
   "outputs": [],
   "source": []
  },
  {
   "cell_type": "code",
   "execution_count": null,
   "metadata": {},
   "outputs": [],
   "source": []
  },
  {
   "cell_type": "code",
   "execution_count": null,
   "metadata": {},
   "outputs": [],
   "source": []
  }
 ],
 "metadata": {
  "kernelspec": {
   "display_name": "Python 3 (ipykernel)",
   "language": "python",
   "name": "python3"
  },
  "language_info": {
   "codemirror_mode": {
    "name": "ipython",
    "version": 3
   },
   "file_extension": ".py",
   "mimetype": "text/x-python",
   "name": "python",
   "nbconvert_exporter": "python",
   "pygments_lexer": "ipython3",
   "version": "3.10.11"
  }
 },
 "nbformat": 4,
 "nbformat_minor": 4
}
